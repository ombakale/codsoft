{
 "cells": [
  {
   "cell_type": "code",
   "execution_count": null,
   "id": "898d84cf",
   "metadata": {},
   "outputs": [],
   "source": [
    "#Basic Calculator\n",
    "def add(n1,n2):\n",
    "    print (n1+n2)\n",
    "def sub(n1,n2):\n",
    "    print (n1-n2)\n",
    "def mul(n1,n2):\n",
    "    print (n1*n2)\n",
    "def div(n1,n2):\n",
    "    print( n1/n2)\n",
    "\n",
    "n1=int(input(\"enter the 1st number \"))\n",
    "n2=int(input(\"enter the 2nd number \"))\n",
    "op=int(input(\"enter the operation \\n1 to add \\n2 to substract \\n3 to multiply \\n4 to divide\\n\"))\n",
    "\n",
    "if op==1:\n",
    "    add(n1,n2)\n",
    "elif op==2:\n",
    "    sub(n1,n2)\n",
    "elif op==3:\n",
    "    mul(n1,n2)\n",
    "elif op==4:\n",
    "    div(n1,n2)\n",
    "else:\n",
    "    print(\"Enter a valid operation\")\n",
    "    "
   ]
  }
 ],
 "metadata": {
  "kernelspec": {
   "display_name": "Python 3 (ipykernel)",
   "language": "python",
   "name": "python3"
  },
  "language_info": {
   "codemirror_mode": {
    "name": "ipython",
    "version": 3
   },
   "file_extension": ".py",
   "mimetype": "text/x-python",
   "name": "python",
   "nbconvert_exporter": "python",
   "pygments_lexer": "ipython3",
   "version": "3.10.9"
  }
 },
 "nbformat": 4,
 "nbformat_minor": 5
}
