{
 "cells": [
  {
   "cell_type": "code",
   "execution_count": null,
   "id": "5a3e6b78",
   "metadata": {},
   "outputs": [],
   "source": [
    "#Rock Paper and Scissor\n",
    "import random \n",
    "user_op=input(\"enter rock paper or scissor \")\n",
    "option=['rock','paper','scissor']\n",
    "comp_op=random.choice(option)\n",
    "\n",
    "if user_op==\"rock\" and comp_op=='rock':\n",
    "    print('USER :',user_op)\n",
    "    print('COMPUTER :',comp_op)\n",
    "    print(\"DRAW!!\")\n",
    "elif user_op==\"rock\" and comp_op==\"paper\":\n",
    "    print('USER :',user_op)\n",
    "    print('COMPUTER :',comp_op)\n",
    "    print(\"COMPUTER WINS!!\")\n",
    "elif user_op=='rock' and comp_op=='scissor':\n",
    "    print('USER :',user_op)\n",
    "    print('COMPUTER :',comp_op)\n",
    "    print(\"USER WINS!!\")\n",
    "elif user_op=='paper' and comp_op=='rock':\n",
    "    print('USER :',user_op)\n",
    "    print('COMPUTER :',comp_op)\n",
    "    print(\"USER WINS!!\")\n",
    "elif user_op=='paper' and comp_op=='paper':\n",
    "    print('USER :',user_op)\n",
    "    print('COMPUTER :',comp_op)\n",
    "    \n",
    "    print(\"DRAW!!\")\n",
    "elif user_op=='paper' and comp_op==\"scissor\":\n",
    "    print('USER :',user_op)\n",
    "    print('COMPUTER :',comp_op)\n",
    "    print('COMPUTER WINS!!')\n",
    "elif user_op=='scissor' and comp_op=='rock':\n",
    "    print('USER :',user_op)\n",
    "    print('COMPUTER :',comp_op)\n",
    "    \n",
    "    print(\"COMPUTER WINS!!\")\n",
    "elif user_op=='scissor' and comp_op=='paper':\n",
    "    print('USER :',user_op)\n",
    "    print('COMPUTER :',comp_op)\n",
    "    print(\"USER WINS\")\n",
    "elif user_op=='scissor' and comp_op=='scissor':\n",
    "    print('USER :',user_op)\n",
    "    print('COMPUTER :',comp_op)\n",
    "    print(\"DRAW!!\")\n",
    "else:\n",
    "    print(\"enter valid options only rock paper and scissor\")"
   ]
  }
 ],
 "metadata": {
  "kernelspec": {
   "display_name": "Python 3 (ipykernel)",
   "language": "python",
   "name": "python3"
  },
  "language_info": {
   "codemirror_mode": {
    "name": "ipython",
    "version": 3
   },
   "file_extension": ".py",
   "mimetype": "text/x-python",
   "name": "python",
   "nbconvert_exporter": "python",
   "pygments_lexer": "ipython3",
   "version": "3.10.9"
  }
 },
 "nbformat": 4,
 "nbformat_minor": 5
}
