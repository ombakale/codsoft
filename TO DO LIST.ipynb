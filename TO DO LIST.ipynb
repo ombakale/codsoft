{
 "cells": [
  {
   "cell_type": "code",
   "execution_count": null,
   "id": "f15955aa",
   "metadata": {},
   "outputs": [],
   "source": [
    "#To-Do List\n",
    "tasks=[]\n",
    "\n",
    "while True:\n",
    "    def addtask():\n",
    "        task=input(\"enter the task\")\n",
    "        tasks.append(task)\n",
    "    def deltask():\n",
    "        task=tasks.pop()\n",
    "        print(task)\n",
    "    def display():\n",
    "        print(tasks)\n",
    "    def exit():\n",
    "        return 0\n",
    "\n",
    "    option=int(input(\"enter \\n 1.for adding a task \\n2.for delecting task \\n 3.for displaying all the task\\n 4.exit\\n \"))\n",
    "\n",
    "    if option==1:\n",
    "        addtask()\n",
    "    elif option ==2:\n",
    "        deltask()\n",
    "    elif option ==3:\n",
    "        display()\n",
    "    else:\n",
    "        break"
   ]
  }
 ],
 "metadata": {
  "kernelspec": {
   "display_name": "Python 3 (ipykernel)",
   "language": "python",
   "name": "python3"
  },
  "language_info": {
   "codemirror_mode": {
    "name": "ipython",
    "version": 3
   },
   "file_extension": ".py",
   "mimetype": "text/x-python",
   "name": "python",
   "nbconvert_exporter": "python",
   "pygments_lexer": "ipython3",
   "version": "3.10.9"
  }
 },
 "nbformat": 4,
 "nbformat_minor": 5
}
