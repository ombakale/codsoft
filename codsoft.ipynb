{
 "cells": [
  {
   "cell_type": "code",
   "execution_count": 6,
   "id": "369df9aa",
   "metadata": {},
   "outputs": [],
   "source": [
    "#To-Do List\n",
    "tasks=[]\n",
    "\n",
    "while True:\n",
    "    def addtask():\n",
    "        task=input(\"enter the task\")\n",
    "        tasks.append(task)\n",
    "    def deltask():\n",
    "        task=tasks.pop()\n",
    "        print(task)\n",
    "    def display():\n",
    "        print(tasks)\n",
    "    def exit():\n",
    "        return 0\n",
    "\n",
    "    option=int(input(\"enter \\n 1.for adding a task \\n2.for delecting task \\n 3.for displaying all the task\\n 4.exit\\n \"))\n",
    "\n",
    "    if option==1:\n",
    "        addtask()\n",
    "    elif option ==2:\n",
    "        deltask()\n",
    "    elif option ==3:\n",
    "        display()\n",
    "    else:\n",
    "        break\n"
   ]
  },
  {
   "cell_type": "code",
   "execution_count": null,
   "id": "2e6f188b",
   "metadata": {},
   "outputs": [],
   "source": [
    "#Basic Calculator\n",
    "def add(n1,n2):\n",
    "    print (n1+n2)\n",
    "def sub(n1,n2):\n",
    "    print (n1-n2)\n",
    "def mul(n1,n2):\n",
    "    print (n1*n2)\n",
    "def div(n1,n2):\n",
    "    print( n1/n2)\n",
    "\n",
    "n1=int(input(\"enter the 1st number \"))\n",
    "n2=int(input(\"enter the 2nd number \"))\n",
    "op=int(input(\"enter the operation \\n1 to add \\n2 to substract \\n3 to multiply \\n4 to divide\\n\"))\n",
    "\n",
    "if op==1:\n",
    "    add(n1,n2)\n",
    "elif op==2:\n",
    "    sub(n1,n2)\n",
    "elif op==3:\n",
    "    mul(n1,n2)\n",
    "elif op==4:\n",
    "    div(n1,n2)\n",
    "else:\n",
    "    print(\"Enter a valid operation\")\n",
    "    "
   ]
  },
  {
   "cell_type": "code",
   "execution_count": null,
   "id": "c740655d",
   "metadata": {},
   "outputs": [],
   "source": [
    "#Rock Paper and Scissor\n",
    "import random \n",
    "user_op=input(\"enter rock paper or scissor \")\n",
    "option=['rock','paper','scissor']\n",
    "comp_op=random.choice(option)\n",
    "\n",
    "if user_op==\"rock\" and comp_op=='rock':\n",
    "    print('USER :',user_op)\n",
    "    print('COMPUTER :',comp_op)\n",
    "    print(\"DRAW!!\")\n",
    "elif user_op==\"rock\" and comp_op==\"paper\":\n",
    "    print('USER :',user_op)\n",
    "    print('COMPUTER :',comp_op)\n",
    "    print(\"COMPUTER WINS!!\")\n",
    "elif user_op=='rock' and comp_op=='scissor':\n",
    "    print('USER :',user_op)\n",
    "    print('COMPUTER :',comp_op)\n",
    "    print(\"USER WINS!!\")\n",
    "elif user_op=='paper' and comp_op=='rock':\n",
    "    print('USER :',user_op)\n",
    "    print('COMPUTER :',comp_op)\n",
    "    print(\"USER WINS!!\")\n",
    "elif user_op=='paper' and comp_op=='paper':\n",
    "    print('USER :',user_op)\n",
    "    print('COMPUTER :',comp_op)\n",
    "    \n",
    "    print(\"DRAW!!\")\n",
    "elif user_op=='paper' and comp_op==\"scissor\":\n",
    "    print('USER :',user_op)\n",
    "    print('COMPUTER :',comp_op)\n",
    "    print('COMPUTER WINS!!')\n",
    "elif user_op=='scissor' and comp_op=='rock':\n",
    "    print('USER :',user_op)\n",
    "    print('COMPUTER :',comp_op)\n",
    "    \n",
    "    print(\"COMPUTER WINS!!\")\n",
    "elif user_op=='scissor' and comp_op=='paper':\n",
    "    print('USER :',user_op)\n",
    "    print('COMPUTER :',comp_op)\n",
    "    print(\"USER WINS\")\n",
    "elif user_op=='scissor' and comp_op=='scissor':\n",
    "    print('USER :',user_op)\n",
    "    print('COMPUTER :',comp_op)\n",
    "    print(\"DRAW!!\")\n",
    "else:\n",
    "    print(\"enter valid options only rock paper and scissor\")"
   ]
  },
  {
   "cell_type": "code",
   "execution_count": null,
   "id": "7b01a776",
   "metadata": {},
   "outputs": [],
   "source": [
    "#Password generator \n",
    "\n",
    "import random\n",
    "import string\n",
    "\n",
    "def generate_password(length):\n",
    "    all_chars = string.ascii_letters + string.digits\n",
    "    password = ''.join(random.choice(all_chars) for i in range(length))\n",
    "    return password\n",
    "n=int(input(\"Enter the lenght \"))\n",
    "print(generate_password(n))\n"
   ]
  },
  {
   "cell_type": "code",
   "execution_count": 1,
   "id": "3c676275",
   "metadata": {},
   "outputs": [
    {
     "data": {
      "text/plain": [
       "'C:\\\\Users\\\\bakal'"
      ]
     },
     "execution_count": 1,
     "metadata": {},
     "output_type": "execute_result"
    }
   ],
   "source": []
  },
  {
   "cell_type": "code",
   "execution_count": null,
   "id": "d4bcef76",
   "metadata": {},
   "outputs": [],
   "source": []
  }
 ],
 "metadata": {
  "kernelspec": {
   "display_name": "Python 3 (ipykernel)",
   "language": "python",
   "name": "python3"
  },
  "language_info": {
   "codemirror_mode": {
    "name": "ipython",
    "version": 3
   },
   "file_extension": ".py",
   "mimetype": "text/x-python",
   "name": "python",
   "nbconvert_exporter": "python",
   "pygments_lexer": "ipython3",
   "version": "3.10.9"
  }
 },
 "nbformat": 4,
 "nbformat_minor": 5
}
