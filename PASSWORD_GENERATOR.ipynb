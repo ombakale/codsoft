{
 "cells": [
  {
   "cell_type": "code",
   "execution_count": null,
   "id": "6ad5a95c",
   "metadata": {},
   "outputs": [],
   "source": [
    "#Password generator \n",
    "\n",
    "import random\n",
    "import string\n",
    "\n",
    "def generate_password(length):\n",
    "    all_chars = string.ascii_letters + string.digits\n",
    "    password = ''.join(random.choice(all_chars) for i in range(length))\n",
    "    return password\n",
    "n=int(input(\"Enter the lenght \"))\n",
    "print(generate_password(n))\n"
   ]
  }
 ],
 "metadata": {
  "kernelspec": {
   "display_name": "Python 3 (ipykernel)",
   "language": "python",
   "name": "python3"
  },
  "language_info": {
   "codemirror_mode": {
    "name": "ipython",
    "version": 3
   },
   "file_extension": ".py",
   "mimetype": "text/x-python",
   "name": "python",
   "nbconvert_exporter": "python",
   "pygments_lexer": "ipython3",
   "version": "3.10.9"
  }
 },
 "nbformat": 4,
 "nbformat_minor": 5
}
